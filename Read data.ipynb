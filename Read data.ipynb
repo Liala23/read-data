{
 "cells": [
  {
   "cell_type": "code",
   "execution_count": 1,
   "metadata": {},
   "outputs": [],
   "source": [
    "import numpy as np\n",
    "import pandas as pd\n",
    "import matplotlib.pyplot as plt\n",
    "import string\n",
    "import xlwt"
   ]
  },
  {
   "cell_type": "code",
   "execution_count": 10,
   "metadata": {},
   "outputs": [],
   "source": [
    "#Define a function to inport data\n",
    "\n",
    "def loadData(fileName):\n",
    "    with open(fileName, 'r') as file:\n",
    "        \n",
    "        #X = []\n",
    "        Y = []\n",
    "    \n",
    "        for line in file.readlines()[4:len(file.readlines())-1]:\n",
    "            #each line\n",
    "            trainingSet = line.split()\n",
    "            #cycle number\n",
    "            #X.append(trainingSet[1]) \n",
    "            #Capcity\n",
    "            Y.append(trainingSet[7])\n",
    "        #X_1 = [int(x) for x in X]\n",
    "        #Y_1 = [float(y) for y in Y]\n",
    "        #Y_new = str(Y_1)\n",
    "    return Y\n",
    "\n",
    "#X, Y = loadData('xl-LT-1-1-cycling.021.txt')\n",
    "#print(X,Y)\n",
    "\n",
    "\n"
   ]
  },
  {
   "cell_type": "code",
   "execution_count": 13,
   "metadata": {},
   "outputs": [],
   "source": [
    "N = 15 #Number of txt files\n",
    "\n",
    "with open('Desktop/test.txt', 'w') as newFile:\n",
    "    \n",
    "    newFile.write('Hi!')\n",
    "    \n",
    "    filename = xlwt.Workbook()\n",
    "    sheet = filename.add_sheet('total results') \n",
    "    \n",
    "    for i in range(1, N+1):\n",
    "    \n",
    "        #X_i = []\n",
    "        Y_i = []\n",
    "        # Read files path\n",
    "        Y_i = loadData('Desktop/LT/%d.txt'%i)\n",
    "        \n",
    "        #newFile.write(Y_i)\n",
    "        \n",
    "        for j in range(len(Y_i)):\n",
    "            sheet.write(j, i, Y_i[j])\n",
    "\n",
    "        \n",
    "filename.save('example2.xls')"
   ]
  },
  {
   "cell_type": "code",
   "execution_count": 4,
   "metadata": {},
   "outputs": [
    {
     "data": {
      "text/plain": [
       "\"\\nN = 15\\n\\n\\nfilename = xlwt.Workbook()\\n\\n#name sheet\\nsheet = filename.add_sheet('total results') \\n\\nsheet.write(0, 0, 123)\\n\\nfilename.save('example.xls')\\n\""
      ]
     },
     "execution_count": 4,
     "metadata": {},
     "output_type": "execute_result"
    }
   ],
   "source": [
    "'''\n",
    "N = 15\n",
    "\n",
    "\n",
    "filename = xlwt.Workbook()\n",
    "\n",
    "#name sheet\n",
    "sheet = filename.add_sheet('total results') \n",
    "\n",
    "sheet.write(0, 0, 123)\n",
    "\n",
    "filename.save('example.xls')\n",
    "'''\n"
   ]
  },
  {
   "cell_type": "code",
   "execution_count": 5,
   "metadata": {},
   "outputs": [
    {
     "data": {
      "text/plain": [
       "'\\n\\n# number of txt files:\\nN = 15\\n\\n#Draw the plots\\nfig = plt.figure(figsize=(12, 10))\\n\\nplt.ylim((0.4, 0.6))\\n\\n#plt.xlim((0, 80))\\nfig.add_subplot(1, 1, 1)\\nfor i in range(1, N+1):\\n    \\n    X_i = []\\n    Y_i = []\\n    # Read files path\\n    X_i, Y_i = loadData(\\'Desktop/LT/%d.txt\\'%i)\\n    #print (X_i, Y_i)\\n    \\n   \\n    plt.plot(X_i, Y_i, label = \"%d\"%i) \\n    \\n    \\n#new_ticks = np.linspace(0.4, 0.6, 10)\\n#plt.yticks(new_ticks)\\n#x_ticks = np.linspace(0, 80, 9)\\n#plt.xticks(x_ticks)\\nplt.legend(loc =2)\\nplt.show()\\n    \\n\\n'"
      ]
     },
     "execution_count": 5,
     "metadata": {},
     "output_type": "execute_result"
    }
   ],
   "source": [
    "'''\n",
    "\n",
    "# number of txt files:\n",
    "N = 15\n",
    "\n",
    "#Draw the plots\n",
    "fig = plt.figure(figsize=(12, 10))\n",
    "\n",
    "plt.ylim((0.4, 0.6))\n",
    "\n",
    "#plt.xlim((0, 80))\n",
    "fig.add_subplot(1, 1, 1)\n",
    "for i in range(1, N+1):\n",
    "    \n",
    "    X_i = []\n",
    "    Y_i = []\n",
    "    # Read files path\n",
    "    X_i, Y_i = loadData('Desktop/LT/%d.txt'%i)\n",
    "    #print (X_i, Y_i)\n",
    "    \n",
    "   \n",
    "    plt.plot(X_i, Y_i, label = \"%d\"%i) \n",
    "    \n",
    "    \n",
    "#new_ticks = np.linspace(0.4, 0.6, 10)\n",
    "#plt.yticks(new_ticks)\n",
    "#x_ticks = np.linspace(0, 80, 9)\n",
    "#plt.xticks(x_ticks)\n",
    "plt.legend(loc =2)\n",
    "plt.show()\n",
    "    \n",
    "\n",
    "'''"
   ]
  }
 ],
 "metadata": {
  "kernelspec": {
   "display_name": "Python 3",
   "language": "python",
   "name": "python3"
  },
  "language_info": {
   "codemirror_mode": {
    "name": "ipython",
    "version": 3
   },
   "file_extension": ".py",
   "mimetype": "text/x-python",
   "name": "python",
   "nbconvert_exporter": "python",
   "pygments_lexer": "ipython3",
   "version": "3.6.4"
  }
 },
 "nbformat": 4,
 "nbformat_minor": 2
}
